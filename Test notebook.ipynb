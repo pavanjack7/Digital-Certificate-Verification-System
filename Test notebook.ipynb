{
 "cells": [
  {
   "cell_type": "code",
   "execution_count": 7,
   "id": "e60ed8d6",
   "metadata": {},
   "outputs": [],
   "source": [
    "import os\n",
    "import shutil\n",
    "from docx import Document\n",
    "from PIL import Image\n",
    "import pytesseract\n",
    "import PyPDF2\n",
    "import os"
   ]
  },
  {
   "cell_type": "code",
   "execution_count": 8,
   "id": "3fa0355e",
   "metadata": {},
   "outputs": [],
   "source": [
    "file_path = 'my_img2.jpg'"
   ]
  },
  {
   "cell_type": "code",
   "execution_count": 9,
   "id": "5cc0fa41",
   "metadata": {},
   "outputs": [
    {
     "name": "stdout",
     "output_type": "stream",
     "text": [
      "File is readable\n"
     ]
    }
   ],
   "source": [
    "if os.access(file_path, os.R_OK):\n",
    "    print(\"File is readable\")\n",
    "else:\n",
    "    print(\"File is not readable\")"
   ]
  },
  {
   "cell_type": "code",
   "execution_count": 10,
   "id": "a10b8c47",
   "metadata": {},
   "outputs": [],
   "source": [
    "pytesseract.pytesseract.tesseract_cmd = r\"E:\\Tesseract\\tesseract.exe\""
   ]
  },
  {
   "cell_type": "code",
   "execution_count": 17,
   "id": "e4494716",
   "metadata": {},
   "outputs": [
    {
     "name": "stdout",
     "output_type": "stream",
     "text": [
      "The file 'Testing/my_img2.jpg' belongs to the category: Handball\n",
      "The file 'Testing/my_img3.jpg' belongs to the category: Cricket\n",
      "The file 'Testing/my_img_1.jpg' belongs to the category: Handball\n",
      "The file 'Testing/my_pdf2.pdf' belongs to the category: Cricket\n",
      "The file 'Testing/my_pdf3.pdf' belongs to the category: Handball\n",
      "The file 'Testing/my_pdf4.pdf' belongs to the category: Handball\n",
      "The file 'Testing/my_word2.docx' belongs to the category: Cricket\n",
      "The file 'Testing/my_word3.docx' belongs to the category: Cricket\n",
      "The file 'Testing/my_word4.docx' belongs to the category: Football\n"
     ]
    }
   ],
   "source": [
    "class FileClassifier:\n",
    "    def __init__(self, keywords_by_category):\n",
    "        self.keywords_by_category = keywords_by_category\n",
    "\n",
    "    def classify_file(self, file_path):\n",
    "        _, file_extension = os.path.splitext(file_path)\n",
    "        file_extension = file_extension.lower()[1:]  # Remove the leading dot and convert to lowercase\n",
    "\n",
    "        if file_extension == 'pdf':\n",
    "            return self.classify_pdf(file_path)\n",
    "        elif file_extension in ('doc', 'docx'):\n",
    "            return self.classify_doc(file_path)\n",
    "        elif file_extension in ('png', 'jpg'):\n",
    "            return self.classify_image(file_path)\n",
    "        else:\n",
    "            print(f\"Unsupported file format: {file_extension}\")\n",
    "            return None\n",
    "\n",
    "    def classify_pdf(self, pdf_path):\n",
    "        # Implementation for PDF classification (same as before)\n",
    "        try:\n",
    "            with open(pdf_path, 'rb') as pdf_file:\n",
    "                pdf_reader = PyPDF2.PdfReader(pdf_file)\n",
    "                text = ''\n",
    "                for page_num in range(len(pdf_reader.pages)):\n",
    "                    page = pdf_reader.pages[page_num]\n",
    "                    text += page.extract_text()\n",
    "\n",
    "                return self.classify_text(text)\n",
    "\n",
    "        except Exception as e:\n",
    "            print(f\"Error processing PDF '{pdf_path}': {e}\")\n",
    "            return None\n",
    "\n",
    "    def classify_doc(self, doc_path):\n",
    "        # Implementation for DOC/DOCX classification (same as before)\n",
    "        try:\n",
    "            doc = Document(doc_path)\n",
    "            text = ''\n",
    "            for para in doc.paragraphs:\n",
    "                text += para.text\n",
    "\n",
    "            return self.classify_text(text)\n",
    "\n",
    "        except Exception as e:\n",
    "            print(f\"Error processing DOC/DOCX '{doc_path}': {e}\")\n",
    "            return None\n",
    "\n",
    "    def classify_image(self, image_path):\n",
    "        try:\n",
    "            # Use pytesseract to perform OCR on the image and extract text\n",
    "            text = pytesseract.image_to_string(Image.open(image_path))\n",
    "\n",
    "            return self.classify_text(text)\n",
    "\n",
    "        except Exception as e:\n",
    "            print(f\"Error processing image '{image_path}': {e}\")\n",
    "            return None\n",
    "\n",
    "    def classify_text(self, text):\n",
    "        for category, keywords in self.keywords_by_category.items():\n",
    "            for keyword in keywords:\n",
    "                if keyword.lower() in text.lower():\n",
    "                    return category\n",
    "        return \"Unclassified\"\n",
    "    \n",
    "if __name__ == \"__main__\":\n",
    "    keywords_by_category = {\n",
    "        'Cricket': ['Cricket', 'keyword2', 'keyword3'],\n",
    "        'Football': ['Football', 'keyword5'],\n",
    "        'Handball': ['Handball', 'keyword7', 'keyword8']\n",
    "    }\n",
    "\n",
    "    file_classifier = FileClassifier(keywords_by_category)\n",
    "\n",
    "    folder_path = 'Testing/'\n",
    "    for filename in os.listdir(folder_path):\n",
    "        file_path = os.path.join(folder_path, filename)\n",
    "        if os.path.isfile(file_path):\n",
    "            result = file_classifier.classify_file(file_path)\n",
    "            if result:\n",
    "                print(f\"The file '{file_path}' belongs to the category: {result}\")\n",
    "\n",
    "                # Create folder if not exists\n",
    "                category_folder = os.path.join(folder_path, result)\n",
    "                if not os.path.exists(category_folder):\n",
    "                    os.makedirs(category_folder)\n",
    "\n",
    "                # Move file to category folder\n",
    "                shutil.move(file_path, os.path.join(category_folder, filename))\n",
    "            else:\n",
    "                print(f\"Unable to classify the file '{file_path}'.\")\n"
   ]
  },
  {
   "cell_type": "code",
   "execution_count": null,
   "id": "37a6293c",
   "metadata": {},
   "outputs": [],
   "source": []
  }
 ],
 "metadata": {
  "kernelspec": {
   "display_name": "Python 3 (ipykernel)",
   "language": "python",
   "name": "python3"
  },
  "language_info": {
   "codemirror_mode": {
    "name": "ipython",
    "version": 3
   },
   "file_extension": ".py",
   "mimetype": "text/x-python",
   "name": "python",
   "nbconvert_exporter": "python",
   "pygments_lexer": "ipython3",
   "version": "3.11.5"
  }
 },
 "nbformat": 4,
 "nbformat_minor": 5
}
